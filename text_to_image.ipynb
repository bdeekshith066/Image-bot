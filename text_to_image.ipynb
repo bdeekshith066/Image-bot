{
  "nbformat": 4,
  "nbformat_minor": 0,
  "metadata": {
    "colab": {
      "provenance": [],
      "authorship_tag": "ABX9TyOvwrYwCXm/f3ryS9YzO25q",
      "include_colab_link": true
    },
    "kernelspec": {
      "name": "python3",
      "display_name": "Python 3"
    },
    "language_info": {
      "name": "python"
    }
  },
  "cells": [
    {
      "cell_type": "markdown",
      "metadata": {
        "id": "view-in-github",
        "colab_type": "text"
      },
      "source": [
        "<a href=\"https://colab.research.google.com/github/bdeekshith066/Image-bot/blob/main/text_to_image.ipynb\" target=\"_parent\"><img src=\"https://colab.research.google.com/assets/colab-badge.svg\" alt=\"Open In Colab\"/></a>"
      ]
    },
    {
      "cell_type": "code",
      "source": [
        "\n",
        "import requests\n",
        "\n",
        "# Get user input for the prompt\n",
        "prompt = input(\"Enter the prompt: \")\n",
        "\n",
        "# Make a POST request to the ClipDrop API endpoint\n",
        "r = requests.post('https://clipdrop-api.co/text-to-image/v1',\n",
        "  files = {\n",
        "      'prompt': (None, prompt, 'text/plain')\n",
        "  },\n",
        "  headers = { 'x-api-key':'clipboard api key'}\n",
        ")\n",
        "\n",
        "# Check if the request was successful\n",
        "if r.ok:\n",
        "    # Save the image to a file\n",
        "    with open('output_image.jpg', 'wb') as f:\n",
        "        f.write(r.content)\n",
        "    print(\"Image saved as 'output_image.jpg'\")\n",
        "else:\n",
        "    r.raise_for_status()\n"
      ],
      "metadata": {
        "id": "8Bhl_poO00i6",
        "colab": {
          "base_uri": "https://localhost:8080/"
        },
        "outputId": "f4791c75-44fb-4918-dd5a-7513f83e8c17"
      },
      "execution_count": 11,
      "outputs": [
        {
          "output_type": "stream",
          "name": "stdout",
          "text": [
            "Enter the prompt: A group of friends embarking on a epic road journey\n",
            "Image saved as 'output_image.jpg'\n"
          ]
        }
      ]
    },
    {
      "cell_type": "markdown",
      "source": [
        "Deekshith B  <br>Follow - @the_promptengineer             "
      ],
      "metadata": {
        "id": "QoX22Lj1jI7O"
      }
    },
    {
      "cell_type": "code",
      "source": [],
      "metadata": {
        "id": "bzT-0E1N0C5c"
      },
      "execution_count": null,
      "outputs": []
    }
  ]
}