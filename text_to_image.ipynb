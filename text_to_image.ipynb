{
  "nbformat": 4,
  "nbformat_minor": 0,
  "metadata": {
    "colab": {
      "provenance": [],
      "authorship_tag": "ABX9TyPQl1hCnCew0sPOygSDmALw",
      "include_colab_link": true
    },
    "kernelspec": {
      "name": "python3",
      "display_name": "Python 3"
    },
    "language_info": {
      "name": "python"
    }
  },
  "cells": [
    {
      "cell_type": "markdown",
      "metadata": {
        "id": "view-in-github",
        "colab_type": "text"
      },
      "source": [
        "<a href=\"https://colab.research.google.com/github/bdeekshith066/Image-bot/blob/main/text_to_image.ipynb\" target=\"_parent\"><img src=\"https://colab.research.google.com/assets/colab-badge.svg\" alt=\"Open In Colab\"/></a>"
      ]
    },
    {
      "cell_type": "code",
      "source": [
        "import requests\n",
        "\n",
        "# Make a POST request to the ClipDrop API endpoint\n",
        "r = requests.post('https://clipdrop-api.co/text-to-image/v1',\n",
        "  files = {\n",
        "      'prompt': (None, 'elon musk and mark zuckerberg ufc fight', 'text/plain')\n",
        "  },\n",
        "  headers = { 'x-api-key':'clipboard api'}\n",
        ")\n",
        "\n",
        "# Check if the request was successful\n",
        "if r.ok:\n",
        "    # Save the image to a file\n",
        "    with open('output_image.jpg', 'wb') as f:\n",
        "        f.write(r.content)\n",
        "else:\n",
        "    r.raise_for_status()\n"
      ],
      "metadata": {
        "id": "dV95OZAWylvi"
      },
      "execution_count": null,
      "outputs": []
    },
    {
      "cell_type": "code",
      "source": [
        "print(\"Image saved as 'output_image.jpg'\")\n"
      ],
      "metadata": {
        "colab": {
          "base_uri": "https://localhost:8080/"
        },
        "id": "MAueo28WzHJE",
        "outputId": "656bec5f-2b03-4494-91a1-be9fa730643a"
      },
      "execution_count": null,
      "outputs": [
        {
          "output_type": "stream",
          "name": "stdout",
          "text": [
            "Image saved as 'output_image.jpg'\n"
          ]
        }
      ]
    },
    {
      "cell_type": "code",
      "source": [
        "\n"
      ],
      "metadata": {
        "id": "8Bhl_poO00i6"
      },
      "execution_count": null,
      "outputs": []
    },
    {
      "cell_type": "code",
      "source": [],
      "metadata": {
        "id": "bzT-0E1N0C5c"
      },
      "execution_count": null,
      "outputs": []
    }
  ]
}
